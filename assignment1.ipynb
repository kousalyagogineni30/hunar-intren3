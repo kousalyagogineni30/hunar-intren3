{
  "nbformat": 4,
  "nbformat_minor": 0,
  "metadata": {
    "colab": {
      "provenance": [],
      "authorship_tag": "ABX9TyNpWzNKke73qWXcdz4T035w",
      "include_colab_link": true
    },
    "kernelspec": {
      "name": "python3",
      "display_name": "Python 3"
    },
    "language_info": {
      "name": "python"
    }
  },
  "cells": [
    {
      "cell_type": "markdown",
      "metadata": {
        "id": "view-in-github",
        "colab_type": "text"
      },
      "source": [
        "<a href=\"https://colab.research.google.com/github/kousalyagogineni30/hunar-intren3/blob/main/assignment1.ipynb\" target=\"_parent\"><img src=\"https://colab.research.google.com/assets/colab-badge.svg\" alt=\"Open In Colab\"/></a>"
      ]
    },
    {
      "cell_type": "code",
      "source": [
        "first_name = input(\"Enter your first name (up to 10 characters): \")\n",
        "last_name = input(\"Enter your last name (up to 10 characters): \")\n",
        "if len(first_name) <= 10 and len(last_name) <= 10:\n",
        "    greeting_message = f\"Hello {first_name} {last_name}! You just developed this in Python.\"\n",
        "    print(greeting_message)\n",
        "else:\n",
        "    print(\"Error: Each name must be 10 characters or less.\")"
      ],
      "metadata": {
        "colab": {
          "base_uri": "https://localhost:8080/"
        },
        "id": "XFmorv3RzMXc",
        "outputId": "97be644d-e922-4708-955a-7f5055318c8e"
      },
      "execution_count": null,
      "outputs": [
        {
          "output_type": "stream",
          "name": "stdout",
          "text": [
            "Enter your first name (up to 10 characters): Kousalya\n",
            "Enter your last name (up to 10 characters): Gogineni\n",
            "Hello Kousalya Gogineni! You just developed this in Python.\n"
          ]
        }
      ]
    }
  ]
}